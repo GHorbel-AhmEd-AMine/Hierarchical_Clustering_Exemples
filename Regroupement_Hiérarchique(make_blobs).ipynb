{
 "cells": [
  {
   "cell_type": "markdown",
   "metadata": {},
   "source": [
    "### Importer les bibliothèques "
   ]
  },
  {
   "cell_type": "code",
   "execution_count": 1,
   "metadata": {},
   "outputs": [],
   "source": [
    "import numpy as np \n",
    "import pandas as pd\n",
    "from scipy import ndimage \n",
    "from scipy.cluster import hierarchy \n",
    "from scipy.spatial import distance_matrix \n",
    "from matplotlib import pyplot as plt \n",
    "from sklearn import manifold, datasets \n",
    "from sklearn.cluster import AgglomerativeClustering \n",
    "from sklearn.datasets.samples_generator import make_blobs \n",
    "%matplotlib inline"
   ]
  },
  {
   "cell_type": "markdown",
   "metadata": {},
   "source": [
    "### Générer des données aléatoires\n",
    "Nous allons générer un ensemble de données en utilisant la classe <b>make_blobs</b>. <br> <br>\n",
    "Saisissez ces paramètres dans make_blobs :\n",
    "<ul>\n",
    "    <li> <b>n_samples</b> : Le nombre total de points répartis également entre les groupes. </li>\n",
    "    <ul> <li> Choisissez un numéro entre 10 et 1500 </li> </ul>\n",
    "    <li> <b>centers</b> : Le nombre de centres à générer, ou les emplacements fixes des centres. </li>\n",
    "    <ul> <li> Choisissez des tableaux de coordonnées x,y pour générer les centres. Avoir 1-10 centres (ex. centres=[[1,1], [2,5]]) </li> </ul>\n",
    "    <li> <b>cluster_std</b> : L'écart type des clusters. Plus le nombre est élevé, plus les clusters sont éloignées les unes des autres</li>.\n",
    "    <ul> <li> Choisissez un nombre entre 0,5 et 1,5 </li> </ul>\n",
    "</ul> <br>\n",
    "Enregistrez le résultat dans <b>X1</b> et <b>y1</b>."
   ]
  },
  {
   "cell_type": "code",
   "execution_count": 2,
   "metadata": {},
   "outputs": [],
   "source": [
    "X1, y1 = make_blobs(n_samples=50, centers=[[4,4], [-2, -1], [1, 1], [10,4]], cluster_std=0.9)"
   ]
  },
  {
   "cell_type": "code",
   "execution_count": 3,
   "metadata": {},
   "outputs": [
    {
     "data": {
      "text/plain": [
       "<matplotlib.collections.PathCollection at 0x21a7b07b148>"
      ]
     },
     "execution_count": 3,
     "metadata": {},
     "output_type": "execute_result"
    },
    {
     "data": {
      "image/png": "[encoded data removed]",
      "text/plain": [
       "<Figure size 432x288 with 1 Axes>"
      ]
     },
     "metadata": {
      "needs_background": "light"
     },
     "output_type": "display_data"
    }
   ],
   "source": [
    "plt.scatter(X1[:, 0], X1[:, 1], marker='o') "
   ]
  },
  {
   "cell_type": "markdown",
   "metadata": {},
   "source": [
    "### Agglomerative Clustering\n"
   ]
  },
  {
   "cell_type": "markdown",
   "metadata": {},
   "source": [
    "La classe <b> Agglomération(Agglomerative Clustering)  </b> nécessitera deux entrées :\n",
    "<ul>\n",
    "    <li> <b>n_clusters</b> : Le nombre de clusters à former ainsi que le nombre de centroïdes à générer. </li>\n",
    "    <ul> <li> La valeur sera : 4 </li> </ul>\n",
    "    <li> <b>linkage</b> : Quel critère de lien utiliser. Le critère de lien détermine la distance à utiliser entre les ensembles d'observations. L'algorithme fusionnera les paires de groupes qui minimisent ce critère. </li>\n",
    "    <ul> \n",
    "        <li> La valeur sera : complet\" </li> \n",
    "        <li> <b>Note</b> : Il est recommandé d'essayer tout ce qui est \"moyen\" également </li>\n",
    "    </ul>\n",
    "</ul> <br>\n",
    "Enregistrez le résultat dans une variable appelée <b> agglom </b>"
   ]
  },
  {
   "cell_type": "code",
   "execution_count": 4,
   "metadata": {},
   "outputs": [],
   "source": [
    "agglom = AgglomerativeClustering(n_clusters = 4, linkage = 'average')"
   ]
  },
  {
   "cell_type": "code",
   "execution_count": 5,
   "metadata": {},
   "outputs": [
    {
     "data": {
      "text/plain": [
       "AgglomerativeClustering(affinity='euclidean', compute_full_tree='auto',\n",
       "                        connectivity=None, distance_threshold=None,\n",
       "                        linkage='average', memory=None, n_clusters=4,\n",
       "                        pooling_func='deprecated')"
      ]
     },
     "execution_count": 5,
     "metadata": {},
     "output_type": "execute_result"
    }
   ],
   "source": [
    "agglom.fit(X1,y1)"
   ]
  },
  {
   "cell_type": "code",
   "execution_count": 9,
   "metadata": {},
   "outputs": [
    {
     "data": {
      "image/png": "[encoded data removed]",
      "text/plain": [
       "<Figure size 432x288 with 1 Axes>"
      ]
     },
     "metadata": {},
     "output_type": "display_data"
    }
   ],
   "source": [
    "\n",
    "plt.figure(figsize=(6,4))\n",
    "\n",
    "x_min, x_max = np.min(X1, axis=0), np.max(X1, axis=0)\n",
    "\n",
    "X1 = (X1 - x_min) / (x_max - x_min)\n",
    "\n",
    "for i in range(X1.shape[0]):\n",
    "    plt.text(X1[i, 0], X1[i, 1], str(y1[i]),\n",
    "             color=plt.cm.nipy_spectral(agglom.labels_[i] / 10.),\n",
    "             fontdict={'weight': 'bold', 'size': 9})\n",
    "             \n",
    "plt.xticks([])\n",
    "plt.yticks([])\n",
    "\n",
    "plt.scatter(X1[:, 0], X1[:, 1], marker='.')\n",
    "\n",
    "plt.show()"
   ]
  },
  {
   "cell_type": "markdown",
   "metadata": {},
   "source": [
    "### Dendrogramme associé pour le regroupement hiérarchique des agglomérations\n",
    "Rappelez-vous qu'une matrice <b>distance</b> contient la distance <b> de chaque point à chaque autre point d'un ensemble de données </b>. <br>\n",
    "Utilisez la fonction <b> matrice_de_distance(distance_matrix) , </b> qui nécessite <b>deux entrées</b>. Utilisez la matrice de caractéristiques, <b> X2 </b> comme les deux entrées et enregistrez la matrice de distance dans une variable appelée <b> dist_matrix </b> <br> <br>\n",
    "N'oubliez pas que les valeurs de distance sont symétriques, avec une diagonale de 0. C'est une façon de s'assurer que votre matrice est correcte. <br> (imprimez dist_matrix pour vous assurer qu'elle est correcte)"
   ]
  },
  {
   "cell_type": "code",
   "execution_count": 10,
   "metadata": {},
   "outputs": [
    {
     "name": "stdout",
     "output_type": "stream",
     "text": [
      "[[0.         0.17850577 1.01527637 ... 0.79271775 0.73183831 0.33737754]\n",
      " [0.17850577 0.         0.885717   ... 0.66322617 0.5574451  0.19982003]\n",
      " [1.01527637 0.885717   0.         ... 0.22313805 0.51820579 0.68760349]\n",
      " ...\n",
      " [0.79271775 0.66322617 0.22313805 ... 0.         0.37508715 0.46463996]\n",
      " [0.73183831 0.5574451  0.51820579 ... 0.37508715 0.         0.42355667]\n",
      " [0.33737754 0.19982003 0.68760349 ... 0.46463996 0.42355667 0.        ]]\n"
     ]
    }
   ],
   "source": [
    "dist_matrix = distance_matrix(X1,X1) \n",
    "print(dist_matrix)"
   ]
  },
  {
   "cell_type": "code",
   "execution_count": 11,
   "metadata": {},
   "outputs": [
    {
     "name": "stderr",
     "output_type": "stream",
     "text": [
      "C:\\ProgramData\\Anaconda3\\lib\\site-packages\\ipykernel_launcher.py:1: ClusterWarning: scipy.cluster: The symmetric non-negative hollow observation matrix looks suspiciously like an uncondensed distance matrix\n",
      "  \"\"\"Entry point for launching an IPython kernel.\n"
     ]
    }
   ],
   "source": [
    "Z = hierarchy.linkage(dist_matrix, 'complete')"
   ]
  },
  {
   "cell_type": "code",
   "execution_count": 12,
   "metadata": {},
   "outputs": [
    {
     "data": {
      "image/png": "[encoded data removed]",
      "text/plain": [
       "<Figure size 432x288 with 1 Axes>"
      ]
     },
     "metadata": {
      "needs_background": "light"
     },
     "output_type": "display_data"
    }
   ],
   "source": [
    "dendro = hierarchy.dendrogram(Z)"
   ]
  },
  {
   "cell_type": "code",
   "execution_count": 13,
   "metadata": {},
   "outputs": [
    {
     "name": "stderr",
     "output_type": "stream",
     "text": [
      "C:\\ProgramData\\Anaconda3\\lib\\site-packages\\ipykernel_launcher.py:2: ClusterWarning: scipy.cluster: The symmetric non-negative hollow observation matrix looks suspiciously like an uncondensed distance matrix\n",
      "  \n"
     ]
    },
    {
     "data": {
      "image/png": "[encoded data removed]",
      "text/plain": [
       "<Figure size 432x288 with 1 Axes>"
      ]
     },
     "metadata": {
      "needs_background": "light"
     },
     "output_type": "display_data"
    }
   ],
   "source": [
    "#Utilisation de la stratégie 'average' \n",
    "Z = hierarchy.linkage(dist_matrix, 'average')\n",
    "dendro = hierarchy.dendrogram(Z)\n"
   ]
  },
  {
   "cell_type": "code",
   "execution_count": null,
   "metadata": {},
   "outputs": [],
   "source": []
  }
 ],
 "metadata": {
  "kernelspec": {
   "display_name": "Python 3",
   "language": "python",
   "name": "python3"
  },
  "language_info": {
   "codemirror_mode": {
    "name": "ipython",
    "version": 3
   },
   "file_extension": ".py",
   "mimetype": "text/x-python",
   "name": "python",
   "nbconvert_exporter": "python",
   "pygments_lexer": "ipython3",
   "version": "3.7.4"
  }
 },
 "nbformat": 4,
 "nbformat_minor": 2
}
